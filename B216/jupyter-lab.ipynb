{
    "cells": [
        {
            "cell_type": "markdown",
            "metadata": {},
            "source": [
                "## Table of Contents\n",
                "\n",
                "* [Option 1. Installing jupyter lab](#option-1.-installing-jupyter-lab). If you are using either Linux or Mac and have installed Python version>=3 and Anaconda.\n",
                "* [Option 2. Using jupyter lab on the web ](#option-2.-using-jupyter-lab-on-the-web). If you're using the online command line through Binder.\n",
                "\n",
                "\n",
                "## Option 1. Installing jupyter lab\n",
                "\n",
                "Activate your \"B216\" conda environment. If you haven't done this, [follow the tutorial.](https://bitarellolab.github.io/Teaching/B216/anaconda.html)\n"
            ]
        },
        {
            "cell_type": "code",
            "execution_count": null,
            "metadata": {},
            "outputs": [],
            "source": [
                "conda activate b216\n",
                "\n"
            ]
        },
        {
            "cell_type": "markdown",
            "metadata": {},
            "source": [
                "Now install the jupyter-lab package within that environment:\n",
                "\n"
            ]
        },
        {
            "cell_type": "code",
            "execution_count": null,
            "metadata": {},
            "outputs": [],
            "source": [
                "conda install -c conda-forge jupyterlab\n",
                "\n"
            ]
        },
        {
            "cell_type": "markdown",
            "metadata": {},
            "source": [
                "You can now test that jupyter lab is working by typing in the command line:\n",
                "\n"
            ]
        },
        {
            "cell_type": "code",
            "execution_count": null,
            "metadata": {},
            "outputs": [],
            "source": [
                "jupyter-lab\n",
                "\n"
            ]
        },
        {
            "cell_type": "markdown",
            "metadata": {},
            "source": [
                "Note: if you have a terminal in your machine you can either run the commands in your machine or online. Either one is fine. \n",
                "\n",
                "## Option 2. Using jupyter lab on the web \n",
                "\n",
                "Go to the [previous step in this tutorial](https://bitarellolab.github.io/Teaching/B216/anaconda.html), follow it, and then come back here.\n",
                "\n",
                "Now that you have an open browser with jupyter lab running,follow the instructions in this tutorial for [option 1.](#option-1.-installing-jupyter-lab)\n",
                " \n",
                "\n",
                "The end!\n"
            ]
        }
    ],
    "metadata": {
        "anaconda-cloud": "",
        "kernelspec": {
            "display_name": "R",
            "langauge": "R",
            "name": "ir"
        },
        "language_info": {
            "codemirror_mode": "r",
            "file_extension": ".r",
            "mimetype": "text/x-r-source",
            "name": "R",
            "pygments_lexer": "r",
            "version": "3.4.1"
        }
    },
    "nbformat": 4,
    "nbformat_minor": 1
}
