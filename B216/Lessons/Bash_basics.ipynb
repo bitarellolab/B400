{
    "cells": [
        {
            "cell_type": "markdown",
            "metadata": {},
            "source": [
                "* [What the hell is \"the shell\"?](#what-the-hell-is-\\\"the-shell\\\"?)\n",
                "* [Why should I use one?](#why-should-i-use-one?)\n",
                "* [Getting started!](#getting-started!)\n",
                "* [References](#references)\n",
                "\n",
                "---\n",
                "\n",
                "Hi everyone! \n",
                "\n",
                "This will be a very soft introduction to the command-line.\n",
                "\n",
                "I am assuming you are using either a Mac or a Linux machine.\n",
                "\n",
                "\n",
                "### 1. What the hell is \"the shell\"?\n",
                "\n",
                "Read this [5 min tutorial](https://swcarpentry.github.io/shell-novice/01-intro/index.html) and then come back here!\n",
                "\n",
                "\n",
                "Now you know what it is! It is a computer program that allows you to \"talk\" to your computer and give it tasks. But you need to speak its language!\n",
                "\n",
                "### 2. Why should I use one?\n",
                "\n",
                "It may not seem worth your while to run a program ONCE using the command-line, but when you find yourself contemplating manually repeating a computational task 100 times, the appeal becomes clear!\n",
                "\n",
                "* high action-to-keystroke ratio\n",
                "* support for automating repetitive tasks\n",
                "* capacity to access networked machines.\n",
                "\n",
                "### 3. Getting started!\n",
                "\n",
                "In your personal or lab computer, go to the \"Terminal\" application. Tip: if you don't know where to find it, open Finder and search for it. \n",
                "\n",
                "Once you open it, run the \"path to working directory\" command:\n"
            ]
        },
        {
            "cell_type": "code",
            "execution_count": null,
            "metadata": {},
            "outputs": [],
            "source": [
                "pwd\n",
                "\n"
            ]
        },
        {
            "cell_type": "markdown",
            "metadata": {},
            "source": [
                "Q1. What does this show you?\n",
                "\n",
                "Move to your desktop folder by using the \"change directory command\". Type:\n"
            ]
        },
        {
            "cell_type": "code",
            "execution_count": null,
            "metadata": {},
            "outputs": [],
            "source": [
                "cd ~/Desktop \n",
                "#the \"~\" is a shortcut that means \"home directory\".\n",
                "#everything written after \"#\" is ignored by the shell, which is why we write comments after \"#\" when writing code.\n"
            ]
        },
        {
            "cell_type": "markdown",
            "metadata": {},
            "source": [
                "Q2. What do you think the above command does?\n",
                "\n",
                "Check your guess by using the pwd command again to check where you are:\n"
            ]
        },
        {
            "cell_type": "code",
            "execution_count": null,
            "metadata": {},
            "outputs": [],
            "source": [
                "pwd\n",
                "\n"
            ]
        },
        {
            "cell_type": "markdown",
            "metadata": {},
            "source": [
                "notice that “cd ~/Desktop” is equivalent to “cd /Users/your_username/Desktop” if on a Mac (or “home/your_username”/Desktop if on Linux). Try it!\n",
                "\n"
            ]
        },
        {
            "cell_type": "code",
            "execution_count": null,
            "metadata": {},
            "outputs": [],
            "source": [
                "#type your command in your terminal \n",
                "\n"
            ]
        },
        {
            "cell_type": "markdown",
            "metadata": {},
            "source": [
                "\n",
                "And then check what directory you're currently in with the path to working directory command:\n"
            ]
        },
        {
            "cell_type": "code",
            "execution_count": null,
            "metadata": {},
            "outputs": [],
            "source": [
                "pwd\n",
                "\n"
            ]
        },
        {
            "cell_type": "markdown",
            "metadata": {},
            "source": [
                "Knowing that your downloads folder (on a Mac) has the following path: /Users/your username/Downloads\n",
                "\n",
                "Type a command that will take you there without having to type the entire path above\n"
            ]
        },
        {
            "cell_type": "code",
            "execution_count": null,
            "metadata": {},
            "outputs": [],
            "source": [
                "#type your command in your terminal \n",
                "\n"
            ]
        },
        {
            "cell_type": "markdown",
            "metadata": {},
            "source": [
                "\n",
                "Now check where you are by using the “pwd” command:\n"
            ]
        },
        {
            "cell_type": "code",
            "execution_count": null,
            "metadata": {},
            "outputs": [],
            "source": [
                "#type your command in your terminal \n",
                "\n"
            ]
        },
        {
            "cell_type": "markdown",
            "metadata": {},
            "source": [
                "\n",
                "Great! Now let’s go back to the Desktop folder:\n"
            ]
        },
        {
            "cell_type": "code",
            "execution_count": null,
            "metadata": {},
            "outputs": [],
            "source": [
                "#type your command in your terminal \n",
                "\n"
            ]
        },
        {
            "cell_type": "markdown",
            "metadata": {},
            "source": [
                "Now, we are going to create a subdirectory(a subfolder) within your desktop. Let’s call it “B216”. The command to create that is “make directory”, which is executed by typing:\n",
                "\n"
            ]
        },
        {
            "cell_type": "code",
            "execution_count": null,
            "metadata": {},
            "outputs": [],
            "source": [
                "mkdir B216\n",
                "\n"
            ]
        },
        {
            "cell_type": "markdown",
            "metadata": {},
            "source": [
                "\n",
                "Next, we are going to move into that directory. Remember, you are already in the Desktop directory, and the B216 directory lives inside it, so all you have to do is use the “cd” command followed by the name of the subdirectory. Try it!\n"
            ]
        },
        {
            "cell_type": "code",
            "execution_count": null,
            "metadata": {},
            "outputs": [],
            "source": [
                "#type your command in your terminal \n",
                "\n"
            ]
        },
        {
            "cell_type": "markdown",
            "metadata": {},
            "source": [
                "Great! Now, let’s list the files inside this directory. Use the “list” commands, which ix executed by typing “ls”:\n",
                "\n"
            ]
        },
        {
            "cell_type": "code",
            "execution_count": null,
            "metadata": {},
            "outputs": [],
            "source": [
                "#type your command in your terminal \n",
                "\n"
            ]
        },
        {
            "cell_type": "markdown",
            "metadata": {},
            "source": [
                "You shouldn’t see anything in there, because you just created this - it’s brand new! But to check that this works, list the files that are currently in your “Downloads” folder. (if you’re anything like your professor, there will be about 2,000 files in there). You will do this by typing “ls” followed by the path to your Downloads folder:\n",
                "\n"
            ]
        },
        {
            "cell_type": "code",
            "execution_count": null,
            "metadata": {},
            "outputs": [],
            "source": [
                "#type your command in your terminal \n",
                "\n"
            ]
        },
        {
            "cell_type": "markdown",
            "metadata": {},
            "source": [
                "Finally, let’s go back to your Desktop folder. There are three ways to do this. Two you already know (type the path or the shortcut path we saw above). The third one involves using “..”.\n",
                "\n",
                "Your directories have an internal structure. “Desktop” is a subdirectory of “Users/” and “B216” is a subdirectory of “Desktop”. Whenever you are in a subdirectory, you can go back to the one “above” it by simply typing “../”.\n",
                "\n",
                "Try the three different commands, followed by “pwd” to check that they will all get you to where you want to go:\n"
            ]
        },
        {
            "cell_type": "code",
            "execution_count": null,
            "metadata": {},
            "outputs": [],
            "source": [
                "#type your command in your terminal and write it down here\n",
                "cd ../ # this command means \"go back to the directory above this one in the hierarchy\n",
                "#check where you are by typing pwd:\n"
            ]
        },
        {
            "cell_type": "markdown",
            "metadata": {},
            "source": [
                "### References\n",
                "\n",
                "https://swcarpentry.github.io/shell-novice/01-intro/index.html\n",
                "\n",
                "The end!\n"
            ]
        }
    ],
    "metadata": {
        "anaconda-cloud": "",
        "kernelspec": {
            "display_name": "R",
            "langauge": "R",
            "name": "ir"
        },
        "language_info": {
            "codemirror_mode": "r",
            "file_extension": ".r",
            "mimetype": "text/x-r-source",
            "name": "R",
            "pygments_lexer": "r",
            "version": "3.4.1"
        }
    },
    "nbformat": 4,
    "nbformat_minor": 1
}
