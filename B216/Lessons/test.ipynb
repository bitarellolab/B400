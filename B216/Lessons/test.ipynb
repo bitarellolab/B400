{
 "cells": [
  {
   "cell_type": "markdown",
   "id": "d4f2cf3a",
   "metadata": {},
   "source": [
    "Download the files"
   ]
  },
  {
   "cell_type": "markdown",
   "id": "cd2e64eb",
   "metadata": {},
   "source": [
    "```\n",
    "%%shell\n",
    "\n",
    "mkdir fastqdata\n",
    "cd fastqdata\n",
    "```\n",
    "\n",
    "```\n",
    "%%shell\n",
    "\n",
    "wget https://raw.githubusercontent.com/bitarellolab/Teaching/main/B216/filestoshare/fastq/Female2-oral1.fastq\n",
    "wget https://raw.githubusercontent.com/bitarellolab/Teaching/main/B216/filestoshare/fastq/Male5-oral1.fastq\n",
    "wget https://raw.githubusercontent.com/bitarellolab/Teaching/main/B216/filestoshare/fastq/Male5-oral2.fastq \n",
    "```"
   ]
  },
  {
   "cell_type": "markdown",
   "id": "c4c4daca",
   "metadata": {},
   "source": [
    "```\n",
    "%%\n",
    "conda install -c bioconda fastqe\n",
    "```\n"
   ]
  },
  {
   "cell_type": "markdown",
   "id": "2f7e0dc0",
   "metadata": {},
   "source": [
    "```\n",
    "fastqe *fastq\n",
    "```"
   ]
  },
  {
   "cell_type": "markdown",
   "id": "86ec5cbf",
   "metadata": {},
   "source": [
    "```\n",
    "\n",
    "```"
   ]
  }
 ],
 "metadata": {
  "jupytext": {
   "cell_metadata_filter": "-all",
   "main_language": "python",
   "notebook_metadata_filter": "-all"
  }
 },
 "nbformat": 4,
 "nbformat_minor": 5
}
